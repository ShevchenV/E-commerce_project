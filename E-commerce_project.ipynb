{
 "cells": [
  {
   "cell_type": "code",
   "execution_count": 1,
   "metadata": {},
   "outputs": [],
   "source": [
    "import pandas as pd\n",
    "import requests\n",
    "from urllib.parse import urlencode\n",
    "from operator import attrgetter\n",
    "from datetime import timedelta\n",
    "import seaborn as sns\n",
    "import matplotlib.pyplot as plt"
   ]
  },
  {
   "cell_type": "code",
   "execution_count": 2,
   "metadata": {},
   "outputs": [],
   "source": [
    "base_url = 'https://cloud-api.yandex.net/v1/disk/public/resources/download?'\n",
    "public_key_1 = 'https://disk.yandex.ru/d/QXrVDUoQvFhIcg'  \n",
    "public_key_2 = 'https://disk.yandex.ru/d/0zWmh1bYP6REbw'  \n",
    "public_key_3 = 'https://disk.yandex.ru/d/xCsQ0FiC-Ue4Lg'  \n",
    "\n",
    "# Получаем загрузочные ссылки\n",
    "final_url_1 = base_url + urlencode(dict(public_key=public_key_1))\n",
    "response_1 = requests.get(final_url_1)\n",
    "download_url_1 = response_1.json()['href']\n",
    "\n",
    "final_url_2 = base_url + urlencode(dict(public_key=public_key_2))\n",
    "response_2 = requests.get(final_url_2)\n",
    "download_url_2 = response_2.json()['href']\n",
    "\n",
    "final_url_3 = base_url + urlencode(dict(public_key=public_key_3))\n",
    "response_3 = requests.get(final_url_3)\n",
    "download_url_3 = response_3.json()['href']"
   ]
  },
  {
   "cell_type": "code",
   "execution_count": 3,
   "metadata": {},
   "outputs": [],
   "source": [
    "df_customers = pd.read_csv(download_url_1, error_bad_lines=False, comment='#' , encoding='cp1251')\n",
    "df_orders = pd.read_csv(download_url_2, error_bad_lines=False, comment='#' , encoding='cp1251')\n",
    "df_order_items = pd.read_csv(download_url_3, error_bad_lines=False, comment='#' , encoding='cp1251')"
   ]
  },
  {
   "cell_type": "markdown",
   "metadata": {},
   "source": [
    "В этом проекте покупками я буду считать те заказы, что были оплачены и имеют статус \"delivered\", так как покупка - это приобретение товара в пользование, а поэтому здесь два основных критерия:\n",
    "- факт оплаты\n",
    "- факт получения заказа\n",
    "\n",
    "Такой подход был выбран из-за того, что:\n",
    "\n",
    "1) заказы без оплаты нельзя считать покупкой;\n",
    "\n",
    "2) заказы со статусами \"canceled\" и \"unavailable\" хоть и были оплачены (не все), но так и не будут получены, а денежные средства клиентам придется вернуть;\n",
    "\n",
    "3) заказы со статусами \"approved\", \"invoiced\", \"processing\", \"shipped\" можно было бы учесть как покупки, но очень смущает то, что у заказов до сих пор не поменялся статус на \"delivered\", \"unavailable\" или \"canceled\",  так как если оценивать df с точки зрения 2023 года, то заказ со статусом \"invoiced\" от 2016 года вызывает много вопросов, учитывая, что все id заказов в таблице olist_orders_dataset.csv уникальны. \n",
    "    Если рассматривать df относительно 17.10.2018 (самой свежей даты), то также присутствуют оплаченные заказы, которые не были доставлены за ~1.5 года. \n",
    "    Может быть для Бразилии это нормальная история, но в России это выглядит максимально странно.\n",
    "\n",
    "Поэтому перед подготовкой аналитики я бы обратился к продакт-менеджеру, чтобы он подсказал, нужно ли включать в отчет для него такие заказы."
   ]
  },
  {
   "cell_type": "markdown",
   "metadata": {},
   "source": [
    "Если просто отфильтровать исходный df по статусу заказа \"delivered\", то в полученных данных будут 14 заказов без подтвержденной оплаты, а также 8 заказов без указанной даты доставки. \n",
    "\n",
    "Из-за этого я не буду включать эти заказы, т.к. первые не были оплачены, а вторые не были доставлены (при условии, что в df ошибка только в проставленном статусе) \n",
    "\n",
    "В df остается еще один заказ без времени передачи в логистическую службу, но этот заказ не противоречит исходным параметрам \"покупки\", а также возможно был забран самостоятельно, так как в заказе есть дата получения.\n",
    "\n",
    "Исходя из всего этого df с покупками будет выглядеть следующим образом:\n",
    "\n"
   ]
  },
  {
   "cell_type": "code",
   "execution_count": 4,
   "metadata": {},
   "outputs": [],
   "source": [
    "purchase = df_orders.query('order_status == \"delivered\"') \\\n",
    ".dropna(subset=['order_approved_at','order_delivered_customer_date'])"
   ]
  },
  {
   "cell_type": "code",
   "execution_count": 5,
   "metadata": {},
   "outputs": [],
   "source": [
    "# Сразу переведем столбец с датой заказа к нужному формату\n",
    "purchase['order_purchase_timestamp'] = pd.to_datetime(purchase['order_purchase_timestamp'])"
   ]
  },
  {
   "cell_type": "markdown",
   "metadata": {},
   "source": [
    "# 1. Сколько у нас пользователей, которые совершили покупку только один раз?"
   ]
  },
  {
   "cell_type": "code",
   "execution_count": 6,
   "metadata": {},
   "outputs": [
    {
     "data": {
      "text/html": [
       "<div>\n",
       "<style scoped>\n",
       "    .dataframe tbody tr th:only-of-type {\n",
       "        vertical-align: middle;\n",
       "    }\n",
       "\n",
       "    .dataframe tbody tr th {\n",
       "        vertical-align: top;\n",
       "    }\n",
       "\n",
       "    .dataframe thead th {\n",
       "        text-align: right;\n",
       "    }\n",
       "</style>\n",
       "<table border=\"1\" class=\"dataframe\">\n",
       "  <thead>\n",
       "    <tr style=\"text-align: right;\">\n",
       "      <th></th>\n",
       "      <th>order_id</th>\n",
       "    </tr>\n",
       "    <tr>\n",
       "      <th>customer_id</th>\n",
       "      <th></th>\n",
       "    </tr>\n",
       "  </thead>\n",
       "  <tbody>\n",
       "    <tr>\n",
       "      <th>00012a2ce6f8dcda20d059ce98491703</th>\n",
       "      <td>1</td>\n",
       "    </tr>\n",
       "    <tr>\n",
       "      <th>aa5e0a0c36015d39de864189a2b00b09</th>\n",
       "      <td>1</td>\n",
       "    </tr>\n",
       "    <tr>\n",
       "      <th>aa6190994371836fc1d4596edd827abd</th>\n",
       "      <td>1</td>\n",
       "    </tr>\n",
       "    <tr>\n",
       "      <th>aa606152f23a5fa9ba3d0b87f7a492e8</th>\n",
       "      <td>1</td>\n",
       "    </tr>\n",
       "    <tr>\n",
       "      <th>aa601b3c45980c0918042d5ca7a25054</th>\n",
       "      <td>1</td>\n",
       "    </tr>\n",
       "  </tbody>\n",
       "</table>\n",
       "</div>"
      ],
      "text/plain": [
       "                                  order_id\n",
       "customer_id                               \n",
       "00012a2ce6f8dcda20d059ce98491703         1\n",
       "aa5e0a0c36015d39de864189a2b00b09         1\n",
       "aa6190994371836fc1d4596edd827abd         1\n",
       "aa606152f23a5fa9ba3d0b87f7a492e8         1\n",
       "aa601b3c45980c0918042d5ca7a25054         1"
      ]
     },
     "execution_count": 6,
     "metadata": {},
     "output_type": "execute_result"
    }
   ],
   "source": [
    "# Сгруппируем все кастомеры в таблице \"purchase\", чтобы увидеть повторяются ли они\n",
    "\n",
    "purchase.groupby('customer_id').agg({'order_id': 'count'}).sort_values(by='order_id', ascending = False).head()"
   ]
  },
  {
   "cell_type": "code",
   "execution_count": 7,
   "metadata": {},
   "outputs": [],
   "source": [
    "# Так как кастомеры не повторяются, то запишем их все в список\n",
    "customer_list = list(purchase['customer_id'])"
   ]
  },
  {
   "cell_type": "code",
   "execution_count": 8,
   "metadata": {},
   "outputs": [],
   "source": [
    "# Так как в таблице \"df_customers\" у каждого customer_unique_id может быть несколько customer_id, \n",
    "# то я создам в этой таблице новый столбец, чтобы найти пересечения со списком кастомеров из таблицы с заказами \n",
    "df_customers['filter'] = df_customers['customer_id'].isin(customer_list) "
   ]
  },
  {
   "cell_type": "code",
   "execution_count": 9,
   "metadata": {},
   "outputs": [],
   "source": [
    "# Теперь сгруппируем по уникальным id, найдем число пересечений кастомеров из двух таблиц и выберем только единождые пересечения.\n",
    "# Просуммировав, получаем число уникальных пользователей, которые сделали покупку только один раз!\n",
    "answer_1 = df_customers.groupby('customer_unique_id').agg({'filter' : 'sum'}).query('filter == 1').sum()"
   ]
  },
  {
   "cell_type": "code",
   "execution_count": 10,
   "metadata": {},
   "outputs": [
    {
     "data": {
      "text/plain": [
       "filter    90537\n",
       "dtype: int64"
      ]
     },
     "execution_count": 10,
     "metadata": {},
     "output_type": "execute_result"
    }
   ],
   "source": [
    "answer_1"
   ]
  },
  {
   "cell_type": "markdown",
   "metadata": {},
   "source": [
    "# 2. Сколько заказов в месяц в среднем не доставляется по разным причинам (вывести детализацию по причинам)?"
   ]
  },
  {
   "cell_type": "markdown",
   "metadata": {},
   "source": [
    "Так как в таблице с заказами нет четких причин, по которым товар еще не доставлен, то будем исходить из статуса заказа"
   ]
  },
  {
   "cell_type": "code",
   "execution_count": 11,
   "metadata": {},
   "outputs": [],
   "source": [
    "# Сперва переведем столбцы с датами к нужному формату\n",
    "df_orders['order_purchase_timestamp'] = pd.to_datetime(df_orders['order_purchase_timestamp'])\n",
    "df_orders['order_approved_at'] = pd.to_datetime(df_orders['order_approved_at'])\n",
    "df_orders['order_delivered_carrier_date'] = pd.to_datetime(df_orders['order_delivered_carrier_date'])\n",
    "df_orders['order_delivered_customer_date'] = pd.to_datetime(df_orders['order_delivered_customer_date'])\n",
    "df_orders['order_estimated_delivery_date'] = pd.to_datetime(df_orders['order_estimated_delivery_date'])"
   ]
  },
  {
   "cell_type": "code",
   "execution_count": 12,
   "metadata": {},
   "outputs": [],
   "source": [
    "# Теперь оставим только недоставленные заказы\n",
    "not_delivered = df_orders[df_orders['order_delivered_customer_date'].isnull()]"
   ]
  },
  {
   "cell_type": "code",
   "execution_count": 13,
   "metadata": {},
   "outputs": [
    {
     "name": "stderr",
     "output_type": "stream",
     "text": [
      "/opt/tljh/user/lib/python3.7/site-packages/ipykernel_launcher.py:2: SettingWithCopyWarning: \n",
      "A value is trying to be set on a copy of a slice from a DataFrame.\n",
      "Try using .loc[row_indexer,col_indexer] = value instead\n",
      "\n",
      "See the caveats in the documentation: https://pandas.pydata.org/pandas-docs/stable/user_guide/indexing.html#returning-a-view-versus-a-copy\n",
      "  \n"
     ]
    }
   ],
   "source": [
    "# Теперь добавим столбец с годом и месяцем создания заказа\n",
    "not_delivered[\"year_month\"] = not_delivered[\"order_purchase_timestamp\"].dt.to_period(\"M\")"
   ]
  },
  {
   "cell_type": "code",
   "execution_count": 14,
   "metadata": {},
   "outputs": [],
   "source": [
    "# Сгруппируем данные по дате и статусу, чтобы увидеть число недоставленных заказов в каждый из месяцев и их статус\n",
    "not_delivered_gr = not_delivered.groupby(['year_month', 'order_status'], as_index = False) \\\n",
    ".agg({'order_id':'count'})"
   ]
  },
  {
   "cell_type": "code",
   "execution_count": 15,
   "metadata": {},
   "outputs": [],
   "source": [
    "# Теперь снова сгруппируем данные из предыдущего шага по статусу заказа, чтобы получить среднее число недоставленных\n",
    "# заказов, округлив его до целого для лучшего восприятия. \n",
    "not_deliv_gr = not_delivered_gr \\\n",
    ".groupby('order_status', as_index = False) \\\n",
    ".agg({'order_id':'mean'}) \\\n",
    ".round() \\\n",
    ".sort_values('order_status')\n"
   ]
  },
  {
   "cell_type": "code",
   "execution_count": 16,
   "metadata": {},
   "outputs": [],
   "source": [
    "# Создадим таблицу со статусами заказов и соответствующими причинами, почему заказ еще не у клиента.\n",
    "# Причина по которой товар не доставлен - это то действие, которое не провели с заказом, чтобы он попал на следующий этап\n",
    "causes = pd.DataFrame({ 'order_status': ['created', 'approved', 'invoiced', 'processing', 'shipped', 'delivered', 'unavailable', 'canceled'], 'сause': ['не подтвержден', 'не оплачен', 'не отправлен на сборку', 'не отгружен', 'не доставлен', 'не доставлен. ошибка статуса', 'недоступен', 'отменен']})"
   ]
  },
  {
   "cell_type": "code",
   "execution_count": 17,
   "metadata": {},
   "outputs": [],
   "source": [
    "# Соединим две таблицы, чтобы увидеть детализацию по причинам, по которым заказ не доставлен\n",
    "answer_2 = not_deliv_gr.merge(causes, how='inner', on='order_status').rename(columns={'order_id': 'count'}).sort_values(by='count', ascending = False)"
   ]
  },
  {
   "cell_type": "code",
   "execution_count": 18,
   "metadata": {},
   "outputs": [
    {
     "data": {
      "text/html": [
       "<div>\n",
       "<style scoped>\n",
       "    .dataframe tbody tr th:only-of-type {\n",
       "        vertical-align: middle;\n",
       "    }\n",
       "\n",
       "    .dataframe tbody tr th {\n",
       "        vertical-align: top;\n",
       "    }\n",
       "\n",
       "    .dataframe thead th {\n",
       "        text-align: right;\n",
       "    }\n",
       "</style>\n",
       "<table border=\"1\" class=\"dataframe\">\n",
       "  <thead>\n",
       "    <tr style=\"text-align: right;\">\n",
       "      <th></th>\n",
       "      <th>order_status</th>\n",
       "      <th>count</th>\n",
       "      <th>сause</th>\n",
       "    </tr>\n",
       "  </thead>\n",
       "  <tbody>\n",
       "    <tr>\n",
       "      <th>6</th>\n",
       "      <td>shipped</td>\n",
       "      <td>48.0</td>\n",
       "      <td>не доставлен</td>\n",
       "    </tr>\n",
       "    <tr>\n",
       "      <th>7</th>\n",
       "      <td>unavailable</td>\n",
       "      <td>29.0</td>\n",
       "      <td>недоступен</td>\n",
       "    </tr>\n",
       "    <tr>\n",
       "      <th>1</th>\n",
       "      <td>canceled</td>\n",
       "      <td>26.0</td>\n",
       "      <td>отменен</td>\n",
       "    </tr>\n",
       "    <tr>\n",
       "      <th>5</th>\n",
       "      <td>processing</td>\n",
       "      <td>16.0</td>\n",
       "      <td>не отгружен</td>\n",
       "    </tr>\n",
       "    <tr>\n",
       "      <th>4</th>\n",
       "      <td>invoiced</td>\n",
       "      <td>15.0</td>\n",
       "      <td>не отправлен на сборку</td>\n",
       "    </tr>\n",
       "    <tr>\n",
       "      <th>2</th>\n",
       "      <td>created</td>\n",
       "      <td>2.0</td>\n",
       "      <td>не подтвержден</td>\n",
       "    </tr>\n",
       "    <tr>\n",
       "      <th>3</th>\n",
       "      <td>delivered</td>\n",
       "      <td>2.0</td>\n",
       "      <td>не доставлен. ошибка статуса</td>\n",
       "    </tr>\n",
       "    <tr>\n",
       "      <th>0</th>\n",
       "      <td>approved</td>\n",
       "      <td>1.0</td>\n",
       "      <td>не оплачен</td>\n",
       "    </tr>\n",
       "  </tbody>\n",
       "</table>\n",
       "</div>"
      ],
      "text/plain": [
       "  order_status  count                         сause\n",
       "6      shipped   48.0                  не доставлен\n",
       "7  unavailable   29.0                    недоступен\n",
       "1     canceled   26.0                       отменен\n",
       "5   processing   16.0                   не отгружен\n",
       "4     invoiced   15.0        не отправлен на сборку\n",
       "2      created    2.0                не подтвержден\n",
       "3    delivered    2.0  не доставлен. ошибка статуса\n",
       "0     approved    1.0                    не оплачен"
      ]
     },
     "execution_count": 18,
     "metadata": {},
     "output_type": "execute_result"
    }
   ],
   "source": [
    "answer_2"
   ]
  },
  {
   "cell_type": "markdown",
   "metadata": {},
   "source": [
    "# 3. По каждому товару определить, в какой день недели товар чаще всего покупается. "
   ]
  },
  {
   "cell_type": "code",
   "execution_count": 19,
   "metadata": {},
   "outputs": [],
   "source": [
    "# Сперва создадим новый df на основе исходного df_orders, оставив только id и дату заказа\n",
    "order_purchase = purchase[['order_id', 'order_purchase_timestamp']]"
   ]
  },
  {
   "cell_type": "code",
   "execution_count": 20,
   "metadata": {},
   "outputs": [
    {
     "name": "stderr",
     "output_type": "stream",
     "text": [
      "/opt/tljh/user/lib/python3.7/site-packages/ipykernel_launcher.py:2: SettingWithCopyWarning: \n",
      "A value is trying to be set on a copy of a slice from a DataFrame.\n",
      "Try using .loc[row_indexer,col_indexer] = value instead\n",
      "\n",
      "See the caveats in the documentation: https://pandas.pydata.org/pandas-docs/stable/user_guide/indexing.html#returning-a-view-versus-a-copy\n",
      "  \n"
     ]
    }
   ],
   "source": [
    "# На основе даты создадим новую колонку с днем недели по каждой дате\n",
    "order_purchase['day_name'] = order_purchase.order_purchase_timestamp.dt.day_name()"
   ]
  },
  {
   "cell_type": "code",
   "execution_count": 21,
   "metadata": {},
   "outputs": [],
   "source": [
    "# Избавимся от колонки с датой\n",
    "order_purchase = order_purchase[['order_id', 'day_name']]"
   ]
  },
  {
   "cell_type": "code",
   "execution_count": 22,
   "metadata": {},
   "outputs": [],
   "source": [
    "# Сгруппируем id продуктов и заказов, чтобы увидеть в скольких заказах встречется каждый товар\n",
    "product_id_group = df_order_items.groupby(['product_id','order_id'], as_index=False).agg({'seller_id' : 'count'})"
   ]
  },
  {
   "cell_type": "code",
   "execution_count": 23,
   "metadata": {},
   "outputs": [],
   "source": [
    "# Объединим таблицы, чтобы найти все пересечения\n",
    "df_merge = product_id_group.merge(order_purchase, how='inner', on='order_id')"
   ]
  },
  {
   "cell_type": "code",
   "execution_count": 24,
   "metadata": {},
   "outputs": [],
   "source": [
    "# Чтобы увидеть в какие дни и в каком количестве покупается товар, сделаем Пивот-таблицу\n",
    "df_pivot = df_merge.pivot_table(index='product_id', columns='day_name', values='seller_id', aggfunc='sum') "
   ]
  },
  {
   "cell_type": "code",
   "execution_count": 25,
   "metadata": {},
   "outputs": [],
   "source": [
    "# С помощью функции .idxmax(), мы сможем увидеть колонку из сводной таблицы с максимальным значением \n",
    "# для каждого индекса, что и будет являться ответом на поставленнную задачу.\n",
    "answer_3 = df_pivot.idxmax(axis=1).to_frame().rename(columns={0: 'day_name'}).reset_index()"
   ]
  },
  {
   "cell_type": "code",
   "execution_count": 26,
   "metadata": {},
   "outputs": [
    {
     "data": {
      "text/html": [
       "<div>\n",
       "<style scoped>\n",
       "    .dataframe tbody tr th:only-of-type {\n",
       "        vertical-align: middle;\n",
       "    }\n",
       "\n",
       "    .dataframe tbody tr th {\n",
       "        vertical-align: top;\n",
       "    }\n",
       "\n",
       "    .dataframe thead th {\n",
       "        text-align: right;\n",
       "    }\n",
       "</style>\n",
       "<table border=\"1\" class=\"dataframe\">\n",
       "  <thead>\n",
       "    <tr style=\"text-align: right;\">\n",
       "      <th></th>\n",
       "      <th>product_id</th>\n",
       "      <th>day_name</th>\n",
       "    </tr>\n",
       "  </thead>\n",
       "  <tbody>\n",
       "    <tr>\n",
       "      <th>0</th>\n",
       "      <td>00066f42aeeb9f3007548bb9d3f33c38</td>\n",
       "      <td>Sunday</td>\n",
       "    </tr>\n",
       "    <tr>\n",
       "      <th>1</th>\n",
       "      <td>00088930e925c41fd95ebfe695fd2655</td>\n",
       "      <td>Tuesday</td>\n",
       "    </tr>\n",
       "    <tr>\n",
       "      <th>2</th>\n",
       "      <td>0009406fd7479715e4bef61dd91f2462</td>\n",
       "      <td>Thursday</td>\n",
       "    </tr>\n",
       "    <tr>\n",
       "      <th>3</th>\n",
       "      <td>000b8f95fcb9e0096488278317764d19</td>\n",
       "      <td>Friday</td>\n",
       "    </tr>\n",
       "    <tr>\n",
       "      <th>4</th>\n",
       "      <td>000d9be29b5207b54e86aa1b1ac54872</td>\n",
       "      <td>Tuesday</td>\n",
       "    </tr>\n",
       "    <tr>\n",
       "      <th>...</th>\n",
       "      <td>...</td>\n",
       "      <td>...</td>\n",
       "    </tr>\n",
       "    <tr>\n",
       "      <th>32206</th>\n",
       "      <td>fff6177642830a9a94a0f2cba5e476d1</td>\n",
       "      <td>Saturday</td>\n",
       "    </tr>\n",
       "    <tr>\n",
       "      <th>32207</th>\n",
       "      <td>fff81cc3158d2725c0655ab9ba0f712c</td>\n",
       "      <td>Monday</td>\n",
       "    </tr>\n",
       "    <tr>\n",
       "      <th>32208</th>\n",
       "      <td>fff9553ac224cec9d15d49f5a263411f</td>\n",
       "      <td>Friday</td>\n",
       "    </tr>\n",
       "    <tr>\n",
       "      <th>32209</th>\n",
       "      <td>fffdb2d0ec8d6a61f0a0a0db3f25b441</td>\n",
       "      <td>Tuesday</td>\n",
       "    </tr>\n",
       "    <tr>\n",
       "      <th>32210</th>\n",
       "      <td>fffe9eeff12fcbd74a2f2b007dde0c58</td>\n",
       "      <td>Wednesday</td>\n",
       "    </tr>\n",
       "  </tbody>\n",
       "</table>\n",
       "<p>32211 rows × 2 columns</p>\n",
       "</div>"
      ],
      "text/plain": [
       "                             product_id   day_name\n",
       "0      00066f42aeeb9f3007548bb9d3f33c38     Sunday\n",
       "1      00088930e925c41fd95ebfe695fd2655    Tuesday\n",
       "2      0009406fd7479715e4bef61dd91f2462   Thursday\n",
       "3      000b8f95fcb9e0096488278317764d19     Friday\n",
       "4      000d9be29b5207b54e86aa1b1ac54872    Tuesday\n",
       "...                                 ...        ...\n",
       "32206  fff6177642830a9a94a0f2cba5e476d1   Saturday\n",
       "32207  fff81cc3158d2725c0655ab9ba0f712c     Monday\n",
       "32208  fff9553ac224cec9d15d49f5a263411f     Friday\n",
       "32209  fffdb2d0ec8d6a61f0a0a0db3f25b441    Tuesday\n",
       "32210  fffe9eeff12fcbd74a2f2b007dde0c58  Wednesday\n",
       "\n",
       "[32211 rows x 2 columns]"
      ]
     },
     "execution_count": 26,
     "metadata": {},
     "output_type": "execute_result"
    }
   ],
   "source": [
    "answer_3"
   ]
  },
  {
   "cell_type": "markdown",
   "metadata": {},
   "source": [
    "<i> P.S. на самом деле ответ является не совсем корректным, так как функция .idxmax() при нахождении двух одинаковых значений показывает только первое. Как это обойти я так и не придумал, но возможно это не принципиально, когда выбор стоит между двумя значениями равными единице. </i>"
   ]
  },
  {
   "cell_type": "code",
   "execution_count": 27,
   "metadata": {},
   "outputs": [
    {
     "data": {
      "text/html": [
       "<div>\n",
       "<style scoped>\n",
       "    .dataframe tbody tr th:only-of-type {\n",
       "        vertical-align: middle;\n",
       "    }\n",
       "\n",
       "    .dataframe tbody tr th {\n",
       "        vertical-align: top;\n",
       "    }\n",
       "\n",
       "    .dataframe thead th {\n",
       "        text-align: right;\n",
       "    }\n",
       "</style>\n",
       "<table border=\"1\" class=\"dataframe\">\n",
       "  <thead>\n",
       "    <tr style=\"text-align: right;\">\n",
       "      <th></th>\n",
       "      <th>day_name</th>\n",
       "      <th>product_id</th>\n",
       "    </tr>\n",
       "  </thead>\n",
       "  <tbody>\n",
       "    <tr>\n",
       "      <th>1</th>\n",
       "      <td>Monday</td>\n",
       "      <td>6137</td>\n",
       "    </tr>\n",
       "    <tr>\n",
       "      <th>0</th>\n",
       "      <td>Friday</td>\n",
       "      <td>5927</td>\n",
       "    </tr>\n",
       "    <tr>\n",
       "      <th>5</th>\n",
       "      <td>Tuesday</td>\n",
       "      <td>4401</td>\n",
       "    </tr>\n",
       "    <tr>\n",
       "      <th>4</th>\n",
       "      <td>Thursday</td>\n",
       "      <td>4361</td>\n",
       "    </tr>\n",
       "    <tr>\n",
       "      <th>6</th>\n",
       "      <td>Wednesday</td>\n",
       "      <td>4042</td>\n",
       "    </tr>\n",
       "    <tr>\n",
       "      <th>3</th>\n",
       "      <td>Sunday</td>\n",
       "      <td>3713</td>\n",
       "    </tr>\n",
       "    <tr>\n",
       "      <th>2</th>\n",
       "      <td>Saturday</td>\n",
       "      <td>3630</td>\n",
       "    </tr>\n",
       "  </tbody>\n",
       "</table>\n",
       "</div>"
      ],
      "text/plain": [
       "    day_name  product_id\n",
       "1     Monday        6137\n",
       "0     Friday        5927\n",
       "5    Tuesday        4401\n",
       "4   Thursday        4361\n",
       "6  Wednesday        4042\n",
       "3     Sunday        3713\n",
       "2   Saturday        3630"
      ]
     },
     "execution_count": 27,
     "metadata": {},
     "output_type": "execute_result"
    }
   ],
   "source": [
    "# Ну и колличество покупок товаров по дням, для того чтобы увидеть самый популярный день для покупок\n",
    "answer_3.groupby('day_name', as_index=False).agg({'product_id': 'count'}).sort_values('product_id', ascending = False)"
   ]
  },
  {
   "cell_type": "markdown",
   "metadata": {},
   "source": [
    "# 4. Сколько у каждого из пользователей в среднем покупок в неделю (по месяцам)? \n",
    "Не стоит забывать, что внутри месяца может быть не целое количество недель. \n",
    "Например, в ноябре 2021 года 4,28 недели. И внутри метрики это нужно учесть."
   ]
  },
  {
   "cell_type": "markdown",
   "metadata": {},
   "source": [
    "Создадим новые дф под задачу:"
   ]
  },
  {
   "cell_type": "code",
   "execution_count": 28,
   "metadata": {},
   "outputs": [],
   "source": [
    "# Из покупок возьмем данные о id  покупателя и времени заказа\n",
    "purchase_4 = purchase[['customer_id', 'order_purchase_timestamp']]"
   ]
  },
  {
   "cell_type": "code",
   "execution_count": 29,
   "metadata": {},
   "outputs": [],
   "source": [
    "# Из таблицы с кастомерами возьмем данные об уникальных id и соответствующим им генерируемым id, чтобы впоследствии\n",
    "# получить информацию о покупках уникальных пользователей\n",
    "customers_4 = df_customers[['customer_unique_id','customer_id']]"
   ]
  },
  {
   "cell_type": "code",
   "execution_count": 30,
   "metadata": {},
   "outputs": [],
   "source": [
    "# Соединим две таблицы\n",
    "merge_cust = customers_4.merge(purchase_4, how='inner', on='customer_id')"
   ]
  },
  {
   "cell_type": "code",
   "execution_count": 31,
   "metadata": {},
   "outputs": [],
   "source": [
    "# Приведем колонку с датой заказа к формату 'гггг-мм'\n",
    "merge_cust[\"order_purchase_timestamp\"] = merge_cust[\"order_purchase_timestamp\"].dt.to_period(\"M\")"
   ]
  },
  {
   "cell_type": "code",
   "execution_count": 32,
   "metadata": {},
   "outputs": [],
   "source": [
    "# Посчитаем для каждого уникального id кол-во заказов в месяц, по имеющимся данным\n",
    "merge_cust_4 = merge_cust.groupby(['customer_unique_id','order_purchase_timestamp'], as_index=False).agg({'customer_id':'count'}).sort_values('order_purchase_timestamp')"
   ]
  },
  {
   "cell_type": "code",
   "execution_count": 33,
   "metadata": {},
   "outputs": [],
   "source": [
    "# Создадим новый столбец, где для каждого месяца будет подсчитано число заказов в неделю\n",
    "merge_cust_4['week'] = (merge_cust_4.customer_id / (merge_cust_4.order_purchase_timestamp.dt.daysinmonth / 7)).round(2)"
   ]
  },
  {
   "cell_type": "code",
   "execution_count": 34,
   "metadata": {},
   "outputs": [],
   "source": [
    "# Теперь возьмем для каждого id среднее значение от столбца с числом заказов в неделю, что и будет ответом на задачу\n",
    "answer_4 = merge_cust_4.groupby('customer_unique_id').agg({'week':'mean'}).sort_values(by='week', ascending = False)"
   ]
  },
  {
   "cell_type": "code",
   "execution_count": 35,
   "metadata": {},
   "outputs": [
    {
     "data": {
      "text/html": [
       "<div>\n",
       "<style scoped>\n",
       "    .dataframe tbody tr th:only-of-type {\n",
       "        vertical-align: middle;\n",
       "    }\n",
       "\n",
       "    .dataframe tbody tr th {\n",
       "        vertical-align: top;\n",
       "    }\n",
       "\n",
       "    .dataframe thead th {\n",
       "        text-align: right;\n",
       "    }\n",
       "</style>\n",
       "<table border=\"1\" class=\"dataframe\">\n",
       "  <thead>\n",
       "    <tr style=\"text-align: right;\">\n",
       "      <th></th>\n",
       "      <th>week</th>\n",
       "    </tr>\n",
       "    <tr>\n",
       "      <th>customer_unique_id</th>\n",
       "      <th></th>\n",
       "    </tr>\n",
       "  </thead>\n",
       "  <tbody>\n",
       "    <tr>\n",
       "      <th>12f5d6e1cbf93dafd9dcc19095df0b3d</th>\n",
       "      <td>1.35</td>\n",
       "    </tr>\n",
       "    <tr>\n",
       "      <th>a239b8e2fbce33780f1f1912e2ee5275</th>\n",
       "      <td>1.00</td>\n",
       "    </tr>\n",
       "    <tr>\n",
       "      <th>b08fab27d47a1eb6deda07bfd965ad43</th>\n",
       "      <td>0.93</td>\n",
       "    </tr>\n",
       "    <tr>\n",
       "      <th>25a560b9a6006157838aab1bdbd68624</th>\n",
       "      <td>0.93</td>\n",
       "    </tr>\n",
       "    <tr>\n",
       "      <th>c8460e4251689ba205045f3ea17884a1</th>\n",
       "      <td>0.90</td>\n",
       "    </tr>\n",
       "    <tr>\n",
       "      <th>...</th>\n",
       "      <td>...</td>\n",
       "    </tr>\n",
       "    <tr>\n",
       "      <th>59333c2cc7727eeef6170c26b71565f7</th>\n",
       "      <td>0.23</td>\n",
       "    </tr>\n",
       "    <tr>\n",
       "      <th>59323be0d75fda67f1b8493f2c56c01e</th>\n",
       "      <td>0.23</td>\n",
       "    </tr>\n",
       "    <tr>\n",
       "      <th>59320290aeb1ca17c488a7090a1c0944</th>\n",
       "      <td>0.23</td>\n",
       "    </tr>\n",
       "    <tr>\n",
       "      <th>592fb34649aad7444bd5d804020af7eb</th>\n",
       "      <td>0.23</td>\n",
       "    </tr>\n",
       "    <tr>\n",
       "      <th>ffffd2657e2aad2907e67c3e9daecbeb</th>\n",
       "      <td>0.23</td>\n",
       "    </tr>\n",
       "  </tbody>\n",
       "</table>\n",
       "<p>93337 rows × 1 columns</p>\n",
       "</div>"
      ],
      "text/plain": [
       "                                  week\n",
       "customer_unique_id                    \n",
       "12f5d6e1cbf93dafd9dcc19095df0b3d  1.35\n",
       "a239b8e2fbce33780f1f1912e2ee5275  1.00\n",
       "b08fab27d47a1eb6deda07bfd965ad43  0.93\n",
       "25a560b9a6006157838aab1bdbd68624  0.93\n",
       "c8460e4251689ba205045f3ea17884a1  0.90\n",
       "...                                ...\n",
       "59333c2cc7727eeef6170c26b71565f7  0.23\n",
       "59323be0d75fda67f1b8493f2c56c01e  0.23\n",
       "59320290aeb1ca17c488a7090a1c0944  0.23\n",
       "592fb34649aad7444bd5d804020af7eb  0.23\n",
       "ffffd2657e2aad2907e67c3e9daecbeb  0.23\n",
       "\n",
       "[93337 rows x 1 columns]"
      ]
     },
     "execution_count": 35,
     "metadata": {},
     "output_type": "execute_result"
    }
   ],
   "source": [
    "answer_4"
   ]
  },
  {
   "cell_type": "markdown",
   "metadata": {},
   "source": [
    "# 5. Используя pandas, проведи когортный анализ пользователей. В период с января по декабрь выяви когорту с самым высоким retention на 3й месяц."
   ]
  },
  {
   "cell_type": "code",
   "execution_count": 36,
   "metadata": {},
   "outputs": [],
   "source": [
    "# Определим каждого пользователя в когорту исходя из месяца и года первой покупки\n",
    "cohort = merge_cust.groupby('customer_unique_id', as_index=False).agg({'order_purchase_timestamp': 'min'}).sort_values('order_purchase_timestamp').rename(columns={'order_purchase_timestamp': 'cohort'})"
   ]
  },
  {
   "cell_type": "code",
   "execution_count": 37,
   "metadata": {},
   "outputs": [],
   "source": [
    "# Добавим когорты в дф с id пользователей и заказами\n",
    "merge_cust_cohort = merge_cust.merge(cohort, how='inner', on='customer_unique_id')"
   ]
  },
  {
   "cell_type": "code",
   "execution_count": 38,
   "metadata": {},
   "outputs": [
    {
     "name": "stdout",
     "output_type": "stream",
     "text": [
      "Заказы с 2016-09 по 2018-08\n"
     ]
    }
   ],
   "source": [
    "# Узнаем разброс по датам в нашем дф\n",
    "print('Заказы с {} по {}'.format(merge_cust_cohort['order_purchase_timestamp'].min(),\n",
    "                                    merge_cust_cohort['order_purchase_timestamp'].max()))"
   ]
  },
  {
   "cell_type": "markdown",
   "metadata": {},
   "source": [
    "Так как в дф заказы с 2016-09 по 2018-08, а по заданию нужно рассмотреть период с января по декабрь, то для анализа возьмем 2017 полный год."
   ]
  },
  {
   "cell_type": "code",
   "execution_count": 39,
   "metadata": {},
   "outputs": [],
   "source": [
    "# посмотрим для каждой когорты количество пользователей в последующие месяцы\n",
    "cohort_retention = merge_cust_cohort.groupby(['cohort','order_purchase_timestamp'], as_index=False).agg({'customer_unique_id':'count'}).rename(columns={'customer_unique_id': 'count_users'}).query(\"'2017-01' <= cohort <= '2017-12'\")"
   ]
  },
  {
   "cell_type": "code",
   "execution_count": 40,
   "metadata": {},
   "outputs": [],
   "source": [
    "# сделаем новую колонку с номером месяца в когорте\n",
    "cohort_retention['period'] = (cohort_retention.order_purchase_timestamp - cohort_retention.cohort).apply(attrgetter('n'))"
   ]
  },
  {
   "cell_type": "code",
   "execution_count": 41,
   "metadata": {},
   "outputs": [],
   "source": [
    "# отберем из дф данные по трем месяцам в каждой когорте.\n",
    "# третий месяц - это \"месяц первой покупки + 2\", т.е. 2 период\n",
    "cohort_retention = cohort_retention.query(\"0 <= period <= 2\")"
   ]
  },
  {
   "cell_type": "code",
   "execution_count": 42,
   "metadata": {},
   "outputs": [],
   "source": [
    "# Сделаем прошлый дф более наглядным и выведем когорту, первые три месяца по ней, и число пользователей в каждый месяц\n",
    "cohort_count = cohort_retention.pivot(index='cohort', columns = 'period', values = 'count_users')"
   ]
  },
  {
   "cell_type": "code",
   "execution_count": 43,
   "metadata": {},
   "outputs": [],
   "source": [
    "# Посчитаем retention на третий месяц по каждой когорте\n",
    "cohort_count['retention (%)'] = ((cohort_count[2]/cohort_count[0])*100).round(2)"
   ]
  },
  {
   "cell_type": "code",
   "execution_count": 44,
   "metadata": {},
   "outputs": [
    {
     "data": {
      "text/html": [
       "<div>\n",
       "<style scoped>\n",
       "    .dataframe tbody tr th:only-of-type {\n",
       "        vertical-align: middle;\n",
       "    }\n",
       "\n",
       "    .dataframe tbody tr th {\n",
       "        vertical-align: top;\n",
       "    }\n",
       "\n",
       "    .dataframe thead th {\n",
       "        text-align: right;\n",
       "    }\n",
       "</style>\n",
       "<table border=\"1\" class=\"dataframe\">\n",
       "  <thead>\n",
       "    <tr style=\"text-align: right;\">\n",
       "      <th>period</th>\n",
       "      <th>0</th>\n",
       "      <th>1</th>\n",
       "      <th>2</th>\n",
       "      <th>retention (%)</th>\n",
       "    </tr>\n",
       "    <tr>\n",
       "      <th>cohort</th>\n",
       "      <th></th>\n",
       "      <th></th>\n",
       "      <th></th>\n",
       "      <th></th>\n",
       "    </tr>\n",
       "  </thead>\n",
       "  <tbody>\n",
       "    <tr>\n",
       "      <th>2017-09</th>\n",
       "      <td>4070</td>\n",
       "      <td>28</td>\n",
       "      <td>22</td>\n",
       "      <td>0.54</td>\n",
       "    </tr>\n",
       "  </tbody>\n",
       "</table>\n",
       "</div>"
      ],
      "text/plain": [
       "period      0   1   2  retention (%)\n",
       "cohort                              \n",
       "2017-09  4070  28  22           0.54"
      ]
     },
     "execution_count": 44,
     "metadata": {},
     "output_type": "execute_result"
    }
   ],
   "source": [
    "# Выведем когорту с самым высоким retention на 3й месяц\n",
    "answer_5 = cohort_count[cohort_count['retention (%)'] == cohort_count['retention (%)']. max ()]\n",
    "answer_5"
   ]
  },
  {
   "cell_type": "markdown",
   "metadata": {},
   "source": [
    "# 6. Часто для качественного анализа аудитории использую подходы, основанные на сегментации. \n",
    "Используя python, построй RFM-сегментацию пользователей, чтобы качественно оценить свою аудиторию. \n",
    "В кластеризации можешь выбрать следующие метрики: R - время от последней покупки пользователя до текущей даты, \n",
    "F - суммарное количество покупок у пользователя за всё время, M - сумма покупок за всё время. \n",
    "Подробно опиши, как ты создавал кластеры. \n",
    "Для каждого RFM-сегмента построй границы метрик recency, frequency и monetary для интерпретации этих кластеров. \n",
    "Пример такого описания: RFM-сегмент 132 (recency=1, frequency=3, monetary=2)имеет границы метрик recency от 130 до 500 дней, frequency от 2 до 5 заказов в неделю, monetary от 1780 до 3560 рублей в неделю."
   ]
  },
  {
   "cell_type": "markdown",
   "metadata": {},
   "source": [
    "Подготовим датафреймы:"
   ]
  },
  {
   "cell_type": "code",
   "execution_count": 45,
   "metadata": {},
   "outputs": [],
   "source": [
    "# Сделаем дф с id заказа и суммой всех товарных позиций в нем\n",
    "orders = df_order_items.groupby('order_id', as_index=False).agg({'price':'sum'})"
   ]
  },
  {
   "cell_type": "code",
   "execution_count": 46,
   "metadata": {},
   "outputs": [],
   "source": [
    "# Возьмем все пользовательские id с совершенными покупками\n",
    "cust_purchase = customers_4.merge(purchase, how='inner', on='customer_id')"
   ]
  },
  {
   "cell_type": "code",
   "execution_count": 47,
   "metadata": {},
   "outputs": [],
   "source": [
    "# объединим дф\n",
    "df_6 = cust_purchase.merge(orders, how='inner', on='order_id')[['customer_unique_id', 'order_id', 'order_purchase_timestamp', 'price']].rename(columns={'order_purchase_timestamp': 'invoice_date'})"
   ]
  },
  {
   "cell_type": "code",
   "execution_count": 48,
   "metadata": {},
   "outputs": [
    {
     "data": {
      "text/html": [
       "<div>\n",
       "<style scoped>\n",
       "    .dataframe tbody tr th:only-of-type {\n",
       "        vertical-align: middle;\n",
       "    }\n",
       "\n",
       "    .dataframe tbody tr th {\n",
       "        vertical-align: top;\n",
       "    }\n",
       "\n",
       "    .dataframe thead th {\n",
       "        text-align: right;\n",
       "    }\n",
       "</style>\n",
       "<table border=\"1\" class=\"dataframe\">\n",
       "  <thead>\n",
       "    <tr style=\"text-align: right;\">\n",
       "      <th></th>\n",
       "      <th>customer_unique_id</th>\n",
       "      <th>order_id</th>\n",
       "      <th>invoice_date</th>\n",
       "      <th>price</th>\n",
       "    </tr>\n",
       "  </thead>\n",
       "  <tbody>\n",
       "    <tr>\n",
       "      <th>0</th>\n",
       "      <td>861eff4711a542e4b93843c6dd7febb0</td>\n",
       "      <td>00e7ee1b050b8499577073aeb2a297a1</td>\n",
       "      <td>2017-05-16 15:05:35</td>\n",
       "      <td>124.99</td>\n",
       "    </tr>\n",
       "    <tr>\n",
       "      <th>1</th>\n",
       "      <td>290c77bc529b7ac935b93aa66c333dc3</td>\n",
       "      <td>29150127e6685892b6eab3eec79f59c7</td>\n",
       "      <td>2018-01-12 20:48:24</td>\n",
       "      <td>289.00</td>\n",
       "    </tr>\n",
       "    <tr>\n",
       "      <th>2</th>\n",
       "      <td>060e732b5b29e8181a18229c7b0b2b5e</td>\n",
       "      <td>b2059ed67ce144a36e2aa97d2c9e9ad2</td>\n",
       "      <td>2018-05-19 16:07:45</td>\n",
       "      <td>139.94</td>\n",
       "    </tr>\n",
       "    <tr>\n",
       "      <th>3</th>\n",
       "      <td>259dac757896d24d7702b9acbbff3f3c</td>\n",
       "      <td>951670f92359f4fe4a63112aa7306eba</td>\n",
       "      <td>2018-03-13 16:06:38</td>\n",
       "      <td>149.94</td>\n",
       "    </tr>\n",
       "    <tr>\n",
       "      <th>4</th>\n",
       "      <td>345ecd01c38d18a9036ed96c73b8d066</td>\n",
       "      <td>6b7d50bd145f6fc7f33cebabd7e49d0f</td>\n",
       "      <td>2018-07-29 09:51:30</td>\n",
       "      <td>230.00</td>\n",
       "    </tr>\n",
       "    <tr>\n",
       "      <th>...</th>\n",
       "      <td>...</td>\n",
       "      <td>...</td>\n",
       "      <td>...</td>\n",
       "      <td>...</td>\n",
       "    </tr>\n",
       "    <tr>\n",
       "      <th>96451</th>\n",
       "      <td>1a29b476fee25c95fbafc67c5ac95cf8</td>\n",
       "      <td>6760e20addcf0121e9d58f2f1ff14298</td>\n",
       "      <td>2018-04-07 15:48:17</td>\n",
       "      <td>74.90</td>\n",
       "    </tr>\n",
       "    <tr>\n",
       "      <th>96452</th>\n",
       "      <td>d52a67c98be1cf6a5c84435bd38d095d</td>\n",
       "      <td>9ec0c8947d973db4f4e8dcf1fbfa8f1b</td>\n",
       "      <td>2018-04-04 08:20:22</td>\n",
       "      <td>114.90</td>\n",
       "    </tr>\n",
       "    <tr>\n",
       "      <th>96453</th>\n",
       "      <td>e9f50caf99f032f0bf3c55141f019d99</td>\n",
       "      <td>fed4434add09a6f332ea398efd656a5c</td>\n",
       "      <td>2018-04-08 20:11:50</td>\n",
       "      <td>37.00</td>\n",
       "    </tr>\n",
       "    <tr>\n",
       "      <th>96454</th>\n",
       "      <td>73c2643a0a458b49f58cea58833b192e</td>\n",
       "      <td>e31ec91cea1ecf97797787471f98a8c2</td>\n",
       "      <td>2017-11-03 21:08:33</td>\n",
       "      <td>689.00</td>\n",
       "    </tr>\n",
       "    <tr>\n",
       "      <th>96455</th>\n",
       "      <td>84732c5050c01db9b23e19ba39899398</td>\n",
       "      <td>28db69209a75e59f20ccbb5c36a20b90</td>\n",
       "      <td>2017-12-19 14:27:23</td>\n",
       "      <td>13.99</td>\n",
       "    </tr>\n",
       "  </tbody>\n",
       "</table>\n",
       "<p>96456 rows × 4 columns</p>\n",
       "</div>"
      ],
      "text/plain": [
       "                     customer_unique_id                          order_id  \\\n",
       "0      861eff4711a542e4b93843c6dd7febb0  00e7ee1b050b8499577073aeb2a297a1   \n",
       "1      290c77bc529b7ac935b93aa66c333dc3  29150127e6685892b6eab3eec79f59c7   \n",
       "2      060e732b5b29e8181a18229c7b0b2b5e  b2059ed67ce144a36e2aa97d2c9e9ad2   \n",
       "3      259dac757896d24d7702b9acbbff3f3c  951670f92359f4fe4a63112aa7306eba   \n",
       "4      345ecd01c38d18a9036ed96c73b8d066  6b7d50bd145f6fc7f33cebabd7e49d0f   \n",
       "...                                 ...                               ...   \n",
       "96451  1a29b476fee25c95fbafc67c5ac95cf8  6760e20addcf0121e9d58f2f1ff14298   \n",
       "96452  d52a67c98be1cf6a5c84435bd38d095d  9ec0c8947d973db4f4e8dcf1fbfa8f1b   \n",
       "96453  e9f50caf99f032f0bf3c55141f019d99  fed4434add09a6f332ea398efd656a5c   \n",
       "96454  73c2643a0a458b49f58cea58833b192e  e31ec91cea1ecf97797787471f98a8c2   \n",
       "96455  84732c5050c01db9b23e19ba39899398  28db69209a75e59f20ccbb5c36a20b90   \n",
       "\n",
       "             invoice_date   price  \n",
       "0     2017-05-16 15:05:35  124.99  \n",
       "1     2018-01-12 20:48:24  289.00  \n",
       "2     2018-05-19 16:07:45  139.94  \n",
       "3     2018-03-13 16:06:38  149.94  \n",
       "4     2018-07-29 09:51:30  230.00  \n",
       "...                   ...     ...  \n",
       "96451 2018-04-07 15:48:17   74.90  \n",
       "96452 2018-04-04 08:20:22  114.90  \n",
       "96453 2018-04-08 20:11:50   37.00  \n",
       "96454 2017-11-03 21:08:33  689.00  \n",
       "96455 2017-12-19 14:27:23   13.99  \n",
       "\n",
       "[96456 rows x 4 columns]"
      ]
     },
     "execution_count": 48,
     "metadata": {},
     "output_type": "execute_result"
    }
   ],
   "source": [
    "# ДФ для решения задачи\n",
    "df_6"
   ]
  },
  {
   "cell_type": "code",
   "execution_count": 49,
   "metadata": {},
   "outputs": [
    {
     "name": "stdout",
     "output_type": "stream",
     "text": [
      "Заказы с 2016-09-15 12:16:38 по 2018-08-29 15:00:37\n"
     ]
    }
   ],
   "source": [
    "# Узнаем разброс по датам в нашем дф\n",
    "print('Заказы с {} по {}'.format(df_6['invoice_date'].min(),\n",
    "                                    df_6['invoice_date'].max()))"
   ]
  },
  {
   "cell_type": "markdown",
   "metadata": {},
   "source": [
    "Так как в дф заказы с 2016-09-15 по 2018-08-29, а для RFM-сегментации (судя по материалу по ссылке) лучше подходят данные за 1 год, то возьмем данные за 2017 полный год."
   ]
  },
  {
   "cell_type": "code",
   "execution_count": 50,
   "metadata": {},
   "outputs": [],
   "source": [
    "df_6 = df_6.query(\"'2017-01-01' <= invoice_date <= '2017-12-31'\")\n",
    "period = 365"
   ]
  },
  {
   "cell_type": "code",
   "execution_count": 51,
   "metadata": {},
   "outputs": [],
   "source": [
    "# Текущей датой обозначим максимальную дату из полученного дф + 1 день\n",
    "NOW = df_6['invoice_date'].max() + timedelta(days=1)"
   ]
  },
  {
   "cell_type": "code",
   "execution_count": 52,
   "metadata": {},
   "outputs": [
    {
     "name": "stderr",
     "output_type": "stream",
     "text": [
      "/opt/tljh/user/lib/python3.7/site-packages/ipykernel_launcher.py:2: SettingWithCopyWarning: \n",
      "A value is trying to be set on a copy of a slice from a DataFrame.\n",
      "Try using .loc[row_indexer,col_indexer] = value instead\n",
      "\n",
      "See the caveats in the documentation: https://pandas.pydata.org/pandas-docs/stable/user_guide/indexing.html#returning-a-view-versus-a-copy\n",
      "  \n"
     ]
    }
   ],
   "source": [
    "# Подсчитаем прошедшее число дней с заказа\n",
    "df_6['DaysSinceOrder'] = df_6['invoice_date'].apply(lambda x: (NOW - x).days)"
   ]
  },
  {
   "cell_type": "markdown",
   "metadata": {},
   "source": [
    "Для того чтобы вывести метрики для RFM-анализа, создадим словарь, где каждому нужному для рассчетов параметру, будет соответствовать функция, с помощью которой и будут произведены нужные расчеты."
   ]
  },
  {
   "cell_type": "code",
   "execution_count": 53,
   "metadata": {},
   "outputs": [
    {
     "data": {
      "text/html": [
       "<div>\n",
       "<style scoped>\n",
       "    .dataframe tbody tr th:only-of-type {\n",
       "        vertical-align: middle;\n",
       "    }\n",
       "\n",
       "    .dataframe tbody tr th {\n",
       "        vertical-align: top;\n",
       "    }\n",
       "\n",
       "    .dataframe thead th {\n",
       "        text-align: right;\n",
       "    }\n",
       "</style>\n",
       "<table border=\"1\" class=\"dataframe\">\n",
       "  <thead>\n",
       "    <tr style=\"text-align: right;\">\n",
       "      <th></th>\n",
       "      <th>CustomerID</th>\n",
       "      <th>Recency</th>\n",
       "      <th>Frequency</th>\n",
       "      <th>Monetary</th>\n",
       "    </tr>\n",
       "  </thead>\n",
       "  <tbody>\n",
       "    <tr>\n",
       "      <th>0</th>\n",
       "      <td>0000f46a3911fa3c0805444483337064</td>\n",
       "      <td>296</td>\n",
       "      <td>1</td>\n",
       "      <td>69.00</td>\n",
       "    </tr>\n",
       "    <tr>\n",
       "      <th>1</th>\n",
       "      <td>0000f6ccb0745a6a4b88665a16c9f078</td>\n",
       "      <td>80</td>\n",
       "      <td>1</td>\n",
       "      <td>25.99</td>\n",
       "    </tr>\n",
       "    <tr>\n",
       "      <th>2</th>\n",
       "      <td>0004aac84e0df4da2b147fca70cf8255</td>\n",
       "      <td>47</td>\n",
       "      <td>1</td>\n",
       "      <td>180.00</td>\n",
       "    </tr>\n",
       "    <tr>\n",
       "      <th>3</th>\n",
       "      <td>0005e1862207bf6ccc02e4228effd9a0</td>\n",
       "      <td>302</td>\n",
       "      <td>1</td>\n",
       "      <td>135.00</td>\n",
       "    </tr>\n",
       "    <tr>\n",
       "      <th>4</th>\n",
       "      <td>0006fdc98a402fceb4eb0ee528f6a8d4</td>\n",
       "      <td>166</td>\n",
       "      <td>1</td>\n",
       "      <td>13.90</td>\n",
       "    </tr>\n",
       "    <tr>\n",
       "      <th>...</th>\n",
       "      <td>...</td>\n",
       "      <td>...</td>\n",
       "      <td>...</td>\n",
       "      <td>...</td>\n",
       "    </tr>\n",
       "    <tr>\n",
       "      <th>42046</th>\n",
       "      <td>fffbf87b7a1a6fa8b03f081c5f51a201</td>\n",
       "      <td>4</td>\n",
       "      <td>1</td>\n",
       "      <td>149.00</td>\n",
       "    </tr>\n",
       "    <tr>\n",
       "      <th>42047</th>\n",
       "      <td>fffcf5a5ff07b0908bd4e2dbc735a684</td>\n",
       "      <td>206</td>\n",
       "      <td>1</td>\n",
       "      <td>1570.00</td>\n",
       "    </tr>\n",
       "    <tr>\n",
       "      <th>42048</th>\n",
       "      <td>fffea47cd6d3cc0a88bd621562a9d061</td>\n",
       "      <td>21</td>\n",
       "      <td>1</td>\n",
       "      <td>64.89</td>\n",
       "    </tr>\n",
       "    <tr>\n",
       "      <th>42049</th>\n",
       "      <td>ffff371b4d645b6ecea244b27531430a</td>\n",
       "      <td>327</td>\n",
       "      <td>1</td>\n",
       "      <td>89.90</td>\n",
       "    </tr>\n",
       "    <tr>\n",
       "      <th>42050</th>\n",
       "      <td>ffffd2657e2aad2907e67c3e9daecbeb</td>\n",
       "      <td>243</td>\n",
       "      <td>1</td>\n",
       "      <td>56.99</td>\n",
       "    </tr>\n",
       "  </tbody>\n",
       "</table>\n",
       "<p>42051 rows × 4 columns</p>\n",
       "</div>"
      ],
      "text/plain": [
       "                             CustomerID  Recency  Frequency  Monetary\n",
       "0      0000f46a3911fa3c0805444483337064      296          1     69.00\n",
       "1      0000f6ccb0745a6a4b88665a16c9f078       80          1     25.99\n",
       "2      0004aac84e0df4da2b147fca70cf8255       47          1    180.00\n",
       "3      0005e1862207bf6ccc02e4228effd9a0      302          1    135.00\n",
       "4      0006fdc98a402fceb4eb0ee528f6a8d4      166          1     13.90\n",
       "...                                 ...      ...        ...       ...\n",
       "42046  fffbf87b7a1a6fa8b03f081c5f51a201        4          1    149.00\n",
       "42047  fffcf5a5ff07b0908bd4e2dbc735a684      206          1   1570.00\n",
       "42048  fffea47cd6d3cc0a88bd621562a9d061       21          1     64.89\n",
       "42049  ffff371b4d645b6ecea244b27531430a      327          1     89.90\n",
       "42050  ffffd2657e2aad2907e67c3e9daecbeb      243          1     56.99\n",
       "\n",
       "[42051 rows x 4 columns]"
      ]
     },
     "execution_count": 53,
     "metadata": {},
     "output_type": "execute_result"
    }
   ],
   "source": [
    "aggr = {\n",
    "    'DaysSinceOrder': lambda x: x.min(),  # найдем число дней прошедших с последнего заказа\n",
    "    'invoice_date': lambda x: len([d for d in x if d >= NOW - timedelta(days=period)]), # общее число заказов за рассматриваемый период\n",
    "    'price': lambda x: x.sum() # сумма чеков по заказам\n",
    "}\n",
    "rfm = df_6.groupby('customer_unique_id').agg(aggr).reset_index()\n",
    "rfm.rename(columns={'DaysSinceOrder': 'Recency', 'invoice_date': 'Frequency', 'customer_unique_id' : 'CustomerID', 'price':'Monetary'}, inplace=True)\n",
    "rfm"
   ]
  },
  {
   "cell_type": "markdown",
   "metadata": {},
   "source": [
    "Суть RFM-анализа — в сегментации клиентов в зависимости от давности покупки, частоты и суммы потраченных средств. В данном случае присвоим пользователям в каждом сегменте один из трех рангов для деления в дальнейшем пользователей на группы. Таким образом мы не будем усложнять рассчеты и проведем базовый RFM-анализ."
   ]
  },
  {
   "cell_type": "markdown",
   "metadata": {},
   "source": [
    "Теперь посмотрим на то, как распределяются значения в сегментах:"
   ]
  },
  {
   "cell_type": "code",
   "execution_count": 54,
   "metadata": {},
   "outputs": [
    {
     "data": {
      "text/html": [
       "<div>\n",
       "<style scoped>\n",
       "    .dataframe tbody tr th:only-of-type {\n",
       "        vertical-align: middle;\n",
       "    }\n",
       "\n",
       "    .dataframe tbody tr th {\n",
       "        vertical-align: top;\n",
       "    }\n",
       "\n",
       "    .dataframe thead th {\n",
       "        text-align: right;\n",
       "    }\n",
       "</style>\n",
       "<table border=\"1\" class=\"dataframe\">\n",
       "  <thead>\n",
       "    <tr style=\"text-align: right;\">\n",
       "      <th></th>\n",
       "      <th>Recency</th>\n",
       "      <th>Frequency</th>\n",
       "      <th>Monetary</th>\n",
       "    </tr>\n",
       "  </thead>\n",
       "  <tbody>\n",
       "    <tr>\n",
       "      <th>count</th>\n",
       "      <td>42051.000000</td>\n",
       "      <td>42051.000000</td>\n",
       "      <td>42051.000000</td>\n",
       "    </tr>\n",
       "    <tr>\n",
       "      <th>mean</th>\n",
       "      <td>136.667047</td>\n",
       "      <td>1.030677</td>\n",
       "      <td>141.553647</td>\n",
       "    </tr>\n",
       "    <tr>\n",
       "      <th>std</th>\n",
       "      <td>95.186128</td>\n",
       "      <td>0.194235</td>\n",
       "      <td>223.698131</td>\n",
       "    </tr>\n",
       "    <tr>\n",
       "      <th>min</th>\n",
       "      <td>1.000000</td>\n",
       "      <td>1.000000</td>\n",
       "      <td>2.290000</td>\n",
       "    </tr>\n",
       "    <tr>\n",
       "      <th>25%</th>\n",
       "      <td>47.000000</td>\n",
       "      <td>1.000000</td>\n",
       "      <td>47.990000</td>\n",
       "    </tr>\n",
       "    <tr>\n",
       "      <th>50%</th>\n",
       "      <td>122.000000</td>\n",
       "      <td>1.000000</td>\n",
       "      <td>89.000000</td>\n",
       "    </tr>\n",
       "    <tr>\n",
       "      <th>75%</th>\n",
       "      <td>212.000000</td>\n",
       "      <td>1.000000</td>\n",
       "      <td>154.900000</td>\n",
       "    </tr>\n",
       "    <tr>\n",
       "      <th>max</th>\n",
       "      <td>360.000000</td>\n",
       "      <td>8.000000</td>\n",
       "      <td>13440.000000</td>\n",
       "    </tr>\n",
       "  </tbody>\n",
       "</table>\n",
       "</div>"
      ],
      "text/plain": [
       "            Recency     Frequency      Monetary\n",
       "count  42051.000000  42051.000000  42051.000000\n",
       "mean     136.667047      1.030677    141.553647\n",
       "std       95.186128      0.194235    223.698131\n",
       "min        1.000000      1.000000      2.290000\n",
       "25%       47.000000      1.000000     47.990000\n",
       "50%      122.000000      1.000000     89.000000\n",
       "75%      212.000000      1.000000    154.900000\n",
       "max      360.000000      8.000000  13440.000000"
      ]
     },
     "execution_count": 54,
     "metadata": {},
     "output_type": "execute_result"
    }
   ],
   "source": [
    "rfm.describe()"
   ]
  },
  {
   "cell_type": "markdown",
   "metadata": {},
   "source": [
    "Если по Recency и Monetary мы можем взять для определения рангов перцентили, то для Frequency границы придется подбирать вручную"
   ]
  },
  {
   "cell_type": "code",
   "execution_count": 55,
   "metadata": {},
   "outputs": [
    {
     "data": {
      "text/plain": [
       "<matplotlib.axes._subplots.AxesSubplot at 0x7f6503b6dd68>"
      ]
     },
     "execution_count": 55,
     "metadata": {},
     "output_type": "execute_result"
    },
    {
     "data": {
      "image/png": "[encoded data removed]",
      "text/plain": [
       "<Figure size 432x288 with 1 Axes>"
      ]
     },
     "metadata": {
      "needs_background": "light"
     },
     "output_type": "display_data"
    }
   ],
   "source": [
    "# Наглядно представим распределение пользоветелей по частоте совершаемых покупок\n",
    "rfm.Frequency.hist()"
   ]
  },
  {
   "cell_type": "markdown",
   "metadata": {},
   "source": [
    "Из графика ничего не понятно. Пойдем другим путем"
   ]
  },
  {
   "cell_type": "code",
   "execution_count": 56,
   "metadata": {},
   "outputs": [
    {
     "data": {
      "text/html": [
       "<div>\n",
       "<style scoped>\n",
       "    .dataframe tbody tr th:only-of-type {\n",
       "        vertical-align: middle;\n",
       "    }\n",
       "\n",
       "    .dataframe tbody tr th {\n",
       "        vertical-align: top;\n",
       "    }\n",
       "\n",
       "    .dataframe thead th {\n",
       "        text-align: right;\n",
       "    }\n",
       "</style>\n",
       "<table border=\"1\" class=\"dataframe\">\n",
       "  <thead>\n",
       "    <tr style=\"text-align: right;\">\n",
       "      <th></th>\n",
       "      <th>CustomerID</th>\n",
       "    </tr>\n",
       "    <tr>\n",
       "      <th>Frequency</th>\n",
       "      <th></th>\n",
       "    </tr>\n",
       "  </thead>\n",
       "  <tbody>\n",
       "    <tr>\n",
       "      <th>1</th>\n",
       "      <td>40883</td>\n",
       "    </tr>\n",
       "    <tr>\n",
       "      <th>2</th>\n",
       "      <td>1075</td>\n",
       "    </tr>\n",
       "    <tr>\n",
       "      <th>3</th>\n",
       "      <td>74</td>\n",
       "    </tr>\n",
       "    <tr>\n",
       "      <th>4</th>\n",
       "      <td>13</td>\n",
       "    </tr>\n",
       "    <tr>\n",
       "      <th>5</th>\n",
       "      <td>4</td>\n",
       "    </tr>\n",
       "    <tr>\n",
       "      <th>6</th>\n",
       "      <td>1</td>\n",
       "    </tr>\n",
       "    <tr>\n",
       "      <th>8</th>\n",
       "      <td>1</td>\n",
       "    </tr>\n",
       "  </tbody>\n",
       "</table>\n",
       "</div>"
      ],
      "text/plain": [
       "           CustomerID\n",
       "Frequency            \n",
       "1               40883\n",
       "2                1075\n",
       "3                  74\n",
       "4                  13\n",
       "5                   4\n",
       "6                   1\n",
       "8                   1"
      ]
     },
     "execution_count": 56,
     "metadata": {},
     "output_type": "execute_result"
    }
   ],
   "source": [
    "rfm.groupby('Frequency').agg({'CustomerID': 'count'})"
   ]
  },
  {
   "cell_type": "markdown",
   "metadata": {},
   "source": [
    "Стало лучше. Для деления на ранги возьмем такие границы: <br>\n",
    "1 - 1 заказ (единичные покупки) <br>\n",
    "2 - 2 заказа (покупают нечасто) <br>\n",
    "3 - 3 и более (покупают часто) <br>\n"
   ]
  },
  {
   "cell_type": "code",
   "execution_count": 57,
   "metadata": {},
   "outputs": [],
   "source": [
    "# Теперь возьмем квантили 0.33 и 0.66 для деления кластеров на три примерно равных диапозона\n",
    "quintiles = rfm[['Recency', 'Monetary']].quantile([.33, .66]).to_dict()"
   ]
  },
  {
   "cell_type": "markdown",
   "metadata": {},
   "source": [
    "Т.о. каждый из рангов имеет следующие границы: <br>\n",
    "<br>\n",
    "Recency <br>\n",
    "1 - более 176 дней (давние клиенты)<br>\n",
    "2 - от 72 до 175 дней (относительно недавние клиенты)<br>\n",
    "3 - до 71 дня (недавние клиенты)<br>\n",
    "<br>\n",
    "Frequency <br> \n",
    "1 - 1 заказ (единичные покупки)<br>\n",
    "2 - 2 заказа (покупают нечасто)<br>\n",
    "3 - 3 и более (покупают часто)<br>\n",
    "<br>\n",
    "Monetary<br>\n",
    "1 - до 58.1 у.е.(маленькая сумма)<br>\n",
    "2 - от 58.1 (невключительно) до 120.0 у.е. (средняя сумма)<br>\n",
    "3 - более 120.0 у.е.(большая сумма)<br>"
   ]
  },
  {
   "cell_type": "code",
   "execution_count": 58,
   "metadata": {},
   "outputs": [],
   "source": [
    "# Создадим функции для присвоения рангов в каждом кластере\n",
    "\n",
    "def r_score(x):\n",
    "    if x <= quintiles['Recency'][.33]:\n",
    "        return 3\n",
    "    elif x <= quintiles['Recency'][.66]:\n",
    "        return 2\n",
    "    else:\n",
    "        return 1\n",
    "\n",
    "def m_score(x):\n",
    "    if x <= quintiles['Monetary'][.33]:\n",
    "        return 1\n",
    "    elif x <= quintiles['Monetary'][.66]:\n",
    "        return 2\n",
    "    else:\n",
    "        return 3  \n",
    "    \n",
    "def f_score(x):\n",
    "    if x == 1:\n",
    "        return 1\n",
    "    elif x == 2:\n",
    "        return 2\n",
    "    else:\n",
    "        return 3  "
   ]
  },
  {
   "cell_type": "code",
   "execution_count": 59,
   "metadata": {},
   "outputs": [],
   "source": [
    "# Создадим новые столбцы с присвоением рангов\n",
    "\n",
    "rfm['R'] = rfm['Recency'].apply(lambda x: r_score(x))\n",
    "rfm['F'] = rfm['Frequency'].apply(lambda x: f_score(x))\n",
    "rfm['M'] = rfm['Monetary'].apply(lambda x: m_score(x))"
   ]
  },
  {
   "cell_type": "code",
   "execution_count": 60,
   "metadata": {},
   "outputs": [],
   "source": [
    "# Выведим RFM_Score\n",
    "rfm['RFM_Score'] = rfm['R'].map(str) + rfm['F'].map(str) + rfm['M'].map(str)"
   ]
  },
  {
   "cell_type": "markdown",
   "metadata": {},
   "source": [
    "Обозначим примерные группы на основании рангов в RFM модели"
   ]
  },
  {
   "attachments": {
    "image.png": {
     "image/png": "[encoded data removed]"
    }
   },
   "cell_type": "markdown",
   "metadata": {},
   "source": [
    "![image.png](attachment:image.png)"
   ]
  },
  {
   "attachments": {
    "image.png": {
     "image/png": "[encoded data removed]"
    }
   },
   "cell_type": "markdown",
   "metadata": {},
   "source": [
    "![image.png](attachment:image.png)"
   ]
  },
  {
   "cell_type": "code",
   "execution_count": 61,
   "metadata": {},
   "outputs": [],
   "source": [
    "# Составим словарь, благодаря которому, \n",
    "\n",
    "segt_map = {\n",
    "    r'2[1-2][1-3]': 'About to sleep',\n",
    "    r'13[1-3]': 'Former customers',\n",
    "    r'1[1-2][2-3]': 'Departed',\n",
    "    r'23[1-3]': 'Need attention',\n",
    "    r'32[1-3]': 'Potential',\n",
    "    r'31[1-3]': 'Beginners',\n",
    "    r'33[1-2]': 'Loyal',\n",
    "    r'333': 'Champions',\n",
    "    r'111': 'Gone',\n",
    "    r'121': 'Departed'\n",
    "}\n",
    "\n",
    "rfm['Segment'] = rfm['R'].map(str) + rfm['F'].map(str) + rfm['M'].map(str)\n",
    "rfm['Segment'] = rfm['Segment'].replace(segt_map, regex=True)"
   ]
  },
  {
   "cell_type": "code",
   "execution_count": 62,
   "metadata": {},
   "outputs": [
    {
     "data": {
      "text/plain": [
       "array(['Departed', 'About to sleep', 'Beginners', 'Gone', 'Potential',\n",
       "       'Former customers', 'Need attention', 'Champions'], dtype=object)"
      ]
     },
     "execution_count": 62,
     "metadata": {},
     "output_type": "execute_result"
    }
   ],
   "source": [
    "# Интересно, что по итогу в рассматриваемом году нет клиентов группы Loyal\n",
    "rfm['Segment'].unique()"
   ]
  },
  {
   "cell_type": "code",
   "execution_count": 63,
   "metadata": {},
   "outputs": [
    {
     "data": {
      "image/png": "[encoded data removed]",
      "text/plain": [
       "<Figure size 432x288 with 1 Axes>"
      ]
     },
     "metadata": {
      "needs_background": "light"
     },
     "output_type": "display_data"
    }
   ],
   "source": [
    "# Число пользователей в каждой из групп\n",
    "segments_counts = rfm['Segment'].value_counts().sort_values(ascending=True)\n",
    "\n",
    "fig, ax = plt.subplots()\n",
    "\n",
    "bars = ax.barh(range(len(segments_counts)),\n",
    "              segments_counts,\n",
    "              color='silver')\n",
    "ax.set_frame_on(False)\n",
    "ax.tick_params(left=False,\n",
    "               bottom=False,\n",
    "               labelbottom=False)\n",
    "ax.set_yticks(range(len(segments_counts)))\n",
    "ax.set_yticklabels(segments_counts.index)\n",
    "\n",
    "for i, bar in enumerate(bars):\n",
    "        value = bar.get_width()\n",
    "        ax.text(value,\n",
    "                bar.get_y() + bar.get_height()/2,\n",
    "                '{:,} ({:}%)'.format(int(value),\n",
    "                                   int(value*100/segments_counts.sum())),\n",
    "                va='center',\n",
    "                ha='left'\n",
    "               )\n",
    "\n",
    "plt.show()"
   ]
  },
  {
   "cell_type": "markdown",
   "metadata": {},
   "source": [
    "В итоге мы видим, что за рассматриваемый период у нас преобладают клиенты из групп About to sleep, Beginners, Departed. <br>\n",
    "Для того, чтобы это исправить, потребуется \"реанимировать\" старых клиентов, чтобы они вновь вернулись за покупками, а также удержать новеньких клиентов, чтобы перевести их в разряд лояльных"
   ]
  }
 ],
 "metadata": {
  "kernelspec": {
   "display_name": "Python 3",
   "language": "python",
   "name": "python3"
  },
  "language_info": {
   "codemirror_mode": {
    "name": "ipython",
    "version": 3
   },
   "file_extension": ".py",
   "mimetype": "text/x-python",
   "name": "python",
   "nbconvert_exporter": "python",
   "pygments_lexer": "ipython3",
   "version": "3.7.3"
  }
 },
 "nbformat": 4,
 "nbformat_minor": 4
}
